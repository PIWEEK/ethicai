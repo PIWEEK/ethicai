{
 "cells": [
  {
   "cell_type": "markdown",
   "id": "1b87ee7c-5556-43a3-a76d-dff6840a3929",
   "metadata": {},
   "source": [
    "Assess Spaceship Titanic with CredoAI - Lens\n",
    "============================================"
   ]
  },
  {
   "cell_type": "code",
   "execution_count": 1,
   "id": "2284e9ef-ac08-4690-890a-f74badc1d462",
   "metadata": {
    "tags": []
   },
   "outputs": [
    {
     "name": "stdout",
     "output_type": "stream",
     "text": [
      "(train) Number of rows = 8693 and Number of cols = 14\n",
      "(test) Number of rows = 4277 and Number of cols = 13\n"
     ]
    }
   ],
   "source": [
    "import pandas as pd\n",
    "import joblib\n",
    "\n",
    "import warnings\n",
    "warnings.filterwarnings('ignore')\n",
    "\n",
    "from credoai.lens import Lens\n",
    "from credoai.artifacts import ClassificationModel, TabularData\n",
    "from credoai.evaluators import ModelFairness, Performance\n",
    "\n",
    "# For this to work, you need to \"File / Save and export notebook as... / Executable Script\" the notebook\n",
    "import Spaceship_Titanic_data"
   ]
  },
  {
   "cell_type": "markdown",
   "id": "4e935883-5829-4bb8-a210-6e1cf4d09aed",
   "metadata": {},
   "source": [
    "Load trained model\n",
    "------------------\n"
   ]
  },
  {
   "cell_type": "code",
   "execution_count": 2,
   "id": "fab41149-f3c2-419f-aa80-ae2ffdea511c",
   "metadata": {
    "tags": []
   },
   "outputs": [],
   "source": [
    "feature_engineering = Spaceship_Titanic_data.feature_engineering  # This is necessary to unpickle the model\n",
    "\n",
    "with open('model.jlb', 'rb') as file:\n",
    "    model = joblib.load(file)\n",
    "    \n",
    "processor = model.steps[0][1]\n",
    "drop_target = model.steps[1][1]\n",
    "classifier = model.steps[2][1]\n",
    "\n",
    "fe_eng = processor.steps[0][1]\n",
    "imputer = processor.steps[1][1]"
   ]
  },
  {
   "cell_type": "markdown",
   "id": "c58ca142-40d7-4cda-a28c-5bd474235e5b",
   "metadata": {},
   "source": [
    "Run a battery of evaluators over Age\n",
    "------------------------------------"
   ]
  },
  {
   "cell_type": "markdown",
   "id": "7df1ca67-0d15-4d8c-8855-df42cbe99a12",
   "metadata": {},
   "source": [
    "Prepare the train data for evaluation"
   ]
  },
  {
   "cell_type": "code",
   "execution_count": 3,
   "id": "14132043-ff6e-498d-a571-e3530281ac41",
   "metadata": {
    "tags": []
   },
   "outputs": [],
   "source": [
    "transformed_data = processor.fit_transform(Spaceship_Titanic_data.train_data)\n",
    "dropped_data = drop_target.fit_transform(transformed_data)\n",
    "\n",
    "imputed_data = imputer.fit_transform(fe_eng.fit_transform(Spaceship_Titanic_data.train_data)) # Skip the scaler to get more readable results\n",
    "ages = pd.qcut(imputed_data.Age, 10) # Quantize ages in 10 clusters from min age to max age"
   ]
  },
  {
   "cell_type": "markdown",
   "id": "64822d32-cb92-4495-9417-48a4050070e4",
   "metadata": {},
   "source": [
    "Wrap both the model and the data in CredoAI - Lens structures"
   ]
  },
  {
   "cell_type": "code",
   "execution_count": 4,
   "id": "825aab37-df1f-4065-8ba8-93f26dde3614",
   "metadata": {},
   "outputs": [],
   "source": [
    "credo_model = ClassificationModel(name=\"titanic_default_classifier\",\n",
    "                                  model_like=classifier)\n",
    "credo_data = TabularData(\n",
    "    name=\"titanic-default\",\n",
    "    X=dropped_data,\n",
    "    y=transformed_data.Transported,\n",
    "    sensitive_features=ages\n",
    ")"
   ]
  },
  {
   "cell_type": "markdown",
   "id": "3c710d11-5a1a-4ffd-b00f-b4e92d2ed44a",
   "metadata": {},
   "source": [
    "Create a Lens and execute evaluators"
   ]
  },
  {
   "cell_type": "code",
   "execution_count": 14,
   "id": "34eebd22-f737-42e1-bc7f-48e3dcc2359f",
   "metadata": {
    "tags": []
   },
   "outputs": [
    {
     "name": "stdout",
     "output_type": "stream",
     "text": [
      "2023-04-19 16:14:26,291 - lens - INFO - Evaluator ModelFairness added to pipeline. Sensitive feature: Age\n",
      "2023-04-19 16:14:26,383 - lens - INFO - Evaluator Performance added to pipeline. \n",
      "[Parallel(n_jobs=1)]: Using backend SequentialBackend with 1 concurrent workers.\n",
      "[Parallel(n_jobs=1)]: Done   1 out of   1 | elapsed:    0.1s remaining:    0.0s\n",
      "[Parallel(n_jobs=1)]: Done   2 out of   2 | elapsed:    0.1s remaining:    0.0s\n",
      "[Parallel(n_jobs=1)]: Done   2 out of   2 | elapsed:    0.1s finished\n"
     ]
    }
   ],
   "source": [
    "lens = Lens(model=credo_model, assessment_data=credo_data)\n",
    "\n",
    "# Precission score: % of true positives versus false positives https://credoai-lens.readthedocs.io/en/latest/pages/metrics.html#precision-score\n",
    "# Recall score: probability of positive test if conditions are positive https://credoai-lens.readthedocs.io/en/latest/pages/metrics.html#true-positive-rate\n",
    "\n",
    "metrics = ['precision_score', 'recall_score', 'equal_opportunity']\n",
    "lens.add(ModelFairness(metrics=metrics))\n",
    "lens.add(Performance(metrics=metrics))\n",
    "lens.run()\n",
    "None"
   ]
  },
  {
   "cell_type": "code",
   "execution_count": 6,
   "id": "eee1e658-2a69-4be1-8648-d5b37a0dbeb5",
   "metadata": {
    "tags": []
   },
   "outputs": [
    {
     "data": {
      "text/html": [
       "<div>\n",
       "<style scoped>\n",
       "    .dataframe tbody tr th:only-of-type {\n",
       "        vertical-align: middle;\n",
       "    }\n",
       "\n",
       "    .dataframe tbody tr th {\n",
       "        vertical-align: top;\n",
       "    }\n",
       "\n",
       "    .dataframe thead th {\n",
       "        text-align: right;\n",
       "    }\n",
       "</style>\n",
       "<table border=\"1\" class=\"dataframe\">\n",
       "  <thead>\n",
       "    <tr style=\"text-align: right;\">\n",
       "      <th></th>\n",
       "      <th>type</th>\n",
       "      <th>value</th>\n",
       "    </tr>\n",
       "  </thead>\n",
       "  <tbody>\n",
       "    <tr>\n",
       "      <th>0</th>\n",
       "      <td>equal_opportunity</td>\n",
       "      <td>0.203827</td>\n",
       "    </tr>\n",
       "    <tr>\n",
       "      <th>0</th>\n",
       "      <td>precision_score_parity</td>\n",
       "      <td>0.075524</td>\n",
       "    </tr>\n",
       "    <tr>\n",
       "      <th>1</th>\n",
       "      <td>recall_score_parity</td>\n",
       "      <td>0.203827</td>\n",
       "    </tr>\n",
       "  </tbody>\n",
       "</table>\n",
       "</div>"
      ],
      "text/plain": [
       "                     type     value\n",
       "0       equal_opportunity  0.203827\n",
       "0  precision_score_parity  0.075524\n",
       "1     recall_score_parity  0.203827"
      ]
     },
     "metadata": {},
     "output_type": "display_data"
    }
   ],
   "source": [
    "fairness_results = lens.get_results(evaluator_name='ModelFairness')[0]\n",
    "\n",
    "aggr = fairness_results['results'][0]\n",
    "disaggr = fairness_results['results'][1]\n",
    "\n",
    "display(aggr)"
   ]
  },
  {
   "cell_type": "code",
   "execution_count": 22,
   "id": "886bbca4-627a-47ad-8b8a-a48f05bf21de",
   "metadata": {
    "tags": []
   },
   "outputs": [
    {
     "data": {
      "image/png": "[encoded data removed]",
      "text/plain": [
       "<Figure size 640x480 with 1 Axes>"
      ]
     },
     "metadata": {},
     "output_type": "display_data"
    }
   ],
   "source": [
    "graph = disaggr[['Age', 'value']] \\\n",
    "                .head(10) \\\n",
    "                .rename(columns={'value': 'Precision'})\n",
    "\n",
    "plot = graph.plot.bar(ylabel='Precision', legend=False, title='True positives ratio by age range')\n",
    "plot.set_xticklabels(graph.Age.map(lambda r: f'[{int(r.left)}-{int(r.right)}]'),\n",
    "                     rotation=45,\n",
    "                     horizontalalignment='right')\n",
    "None"
   ]
  },
  {
   "cell_type": "code",
   "execution_count": 8,
   "id": "bea01a8e-4427-4354-877d-f9770a84548c",
   "metadata": {
    "tags": []
   },
   "outputs": [
    {
     "data": {
      "text/html": [
       "<div>\n",
       "<style scoped>\n",
       "    .dataframe tbody tr th:only-of-type {\n",
       "        vertical-align: middle;\n",
       "    }\n",
       "\n",
       "    .dataframe tbody tr th {\n",
       "        vertical-align: top;\n",
       "    }\n",
       "\n",
       "    .dataframe thead th {\n",
       "        text-align: right;\n",
       "    }\n",
       "</style>\n",
       "<table border=\"1\" class=\"dataframe\">\n",
       "  <thead>\n",
       "    <tr style=\"text-align: right;\">\n",
       "      <th></th>\n",
       "      <th>type</th>\n",
       "      <th>value</th>\n",
       "    </tr>\n",
       "  </thead>\n",
       "  <tbody>\n",
       "    <tr>\n",
       "      <th>0</th>\n",
       "      <td>precision_score</td>\n",
       "      <td>0.784516</td>\n",
       "    </tr>\n",
       "    <tr>\n",
       "      <th>1</th>\n",
       "      <td>recall_score</td>\n",
       "      <td>0.833257</td>\n",
       "    </tr>\n",
       "  </tbody>\n",
       "</table>\n",
       "</div>"
      ],
      "text/plain": [
       "              type     value\n",
       "0  precision_score  0.784516\n",
       "1     recall_score  0.833257"
      ]
     },
     "metadata": {},
     "output_type": "display_data"
    },
    {
     "data": {
      "text/html": [
       "<div>\n",
       "<style scoped>\n",
       "    .dataframe tbody tr th:only-of-type {\n",
       "        vertical-align: middle;\n",
       "    }\n",
       "\n",
       "    .dataframe tbody tr th {\n",
       "        vertical-align: top;\n",
       "    }\n",
       "\n",
       "    .dataframe thead th {\n",
       "        text-align: right;\n",
       "    }\n",
       "</style>\n",
       "<table border=\"1\" class=\"dataframe\">\n",
       "  <thead>\n",
       "    <tr style=\"text-align: right;\">\n",
       "      <th></th>\n",
       "      <th>true_label</th>\n",
       "      <th>predicted_label</th>\n",
       "      <th>value</th>\n",
       "    </tr>\n",
       "  </thead>\n",
       "  <tbody>\n",
       "    <tr>\n",
       "      <th>0</th>\n",
       "      <td>False</td>\n",
       "      <td>False</td>\n",
       "      <td>0.767787</td>\n",
       "    </tr>\n",
       "    <tr>\n",
       "      <th>1</th>\n",
       "      <td>True</td>\n",
       "      <td>False</td>\n",
       "      <td>0.166743</td>\n",
       "    </tr>\n",
       "    <tr>\n",
       "      <th>2</th>\n",
       "      <td>False</td>\n",
       "      <td>True</td>\n",
       "      <td>0.232213</td>\n",
       "    </tr>\n",
       "    <tr>\n",
       "      <th>3</th>\n",
       "      <td>True</td>\n",
       "      <td>True</td>\n",
       "      <td>0.833257</td>\n",
       "    </tr>\n",
       "  </tbody>\n",
       "</table>\n",
       "</div>"
      ],
      "text/plain": [
       "   true_label predicted_label     value\n",
       "0       False           False  0.767787\n",
       "1        True           False  0.166743\n",
       "2       False            True  0.232213\n",
       "3        True            True  0.833257"
      ]
     },
     "metadata": {},
     "output_type": "display_data"
    }
   ],
   "source": [
    "performance_results = lens.get_results(evaluator_name='Performance')[0]\n",
    "# first dataframe is overall metrics\n",
    "display(performance_results['results'][0])\n",
    "# second dataframe is the long form of the confusion matrix\n",
    "display(performance_results['results'][1])"
   ]
  },
  {
   "cell_type": "markdown",
   "id": "73c7d0e9-891e-44d8-b3c3-21ae2e3d9228",
   "metadata": {},
   "source": [
    "Run a simple evaluation over VIP\n",
    "--------------------------------"
   ]
  },
  {
   "cell_type": "markdown",
   "id": "c9b2204a-3542-47b3-af41-bdf4c8c2b789",
   "metadata": {},
   "source": [
    "Prepare the train data for evaluation"
   ]
  },
  {
   "cell_type": "code",
   "execution_count": 9,
   "id": "5e231601-1672-40a6-a58d-1232764dadc0",
   "metadata": {
    "tags": []
   },
   "outputs": [],
   "source": [
    "vip = imputed_data.VIP"
   ]
  },
  {
   "cell_type": "markdown",
   "id": "4f6308b9-f913-4e6d-9d70-7cf95d4ae34a",
   "metadata": {},
   "source": [
    "Wrap both the model and the data in CredoAI - Lens structures"
   ]
  },
  {
   "cell_type": "code",
   "execution_count": 10,
   "id": "aecb0b36-6a22-4d9b-b3b4-9d2a8e70c624",
   "metadata": {
    "tags": []
   },
   "outputs": [],
   "source": [
    "credo_model2 = ClassificationModel(name=\"titanic_default_classifier\",\n",
    "                                  model_like=classifier)\n",
    "credo_data2 = TabularData(\n",
    "    name=\"titanic-default\",\n",
    "    X=dropped_data,\n",
    "    y=transformed_data.Transported,\n",
    "    sensitive_features=vip\n",
    ")"
   ]
  },
  {
   "cell_type": "markdown",
   "id": "7578cb9c-232c-4bb9-848a-51fbfc85d244",
   "metadata": {},
   "source": [
    "Create a Lens and execute evaluators"
   ]
  },
  {
   "cell_type": "code",
   "execution_count": 13,
   "id": "2cfd5eb4-bcdf-4fcc-8f9f-ec1ed7b7dc1c",
   "metadata": {
    "tags": []
   },
   "outputs": [
    {
     "name": "stdout",
     "output_type": "stream",
     "text": [
      "2023-04-19 16:14:13,688 - lens - INFO - Evaluator ModelFairness added to pipeline. Sensitive feature: VIP\n",
      "[Parallel(n_jobs=1)]: Using backend SequentialBackend with 1 concurrent workers.\n",
      "[Parallel(n_jobs=1)]: Done   1 out of   1 | elapsed:    0.1s remaining:    0.0s\n",
      "[Parallel(n_jobs=1)]: Done   1 out of   1 | elapsed:    0.1s finished\n"
     ]
    }
   ],
   "source": [
    "lens2 = Lens(model=credo_model2, assessment_data=credo_data2)\n",
    "\n",
    "# Precission score: % of true positives versus false positives https://credoai-lens.readthedocs.io/en/latest/pages/metrics.html#precision-score\n",
    "# Recall score: probability of positive test if conditions are positive https://credoai-lens.readthedocs.io/en/latest/pages/metrics.html#true-positive-rate\n",
    "\n",
    "metrics2 = ['precision_score', 'equal_opportunity']\n",
    "lens2.add(ModelFairness(metrics=metrics2))\n",
    "lens2.run()\n",
    "None"
   ]
  },
  {
   "cell_type": "code",
   "execution_count": 16,
   "id": "6d2331fe-5168-4786-a19e-12cf0c7525e2",
   "metadata": {
    "tags": []
   },
   "outputs": [
    {
     "data": {
      "text/html": [
       "<div>\n",
       "<style scoped>\n",
       "    .dataframe tbody tr th:only-of-type {\n",
       "        vertical-align: middle;\n",
       "    }\n",
       "\n",
       "    .dataframe tbody tr th {\n",
       "        vertical-align: top;\n",
       "    }\n",
       "\n",
       "    .dataframe thead th {\n",
       "        text-align: right;\n",
       "    }\n",
       "</style>\n",
       "<table border=\"1\" class=\"dataframe\">\n",
       "  <thead>\n",
       "    <tr style=\"text-align: right;\">\n",
       "      <th></th>\n",
       "      <th>type</th>\n",
       "      <th>value</th>\n",
       "    </tr>\n",
       "  </thead>\n",
       "  <tbody>\n",
       "    <tr>\n",
       "      <th>0</th>\n",
       "      <td>equal_opportunity</td>\n",
       "      <td>0.004386</td>\n",
       "    </tr>\n",
       "    <tr>\n",
       "      <th>0</th>\n",
       "      <td>precision_score_parity</td>\n",
       "      <td>0.079750</td>\n",
       "    </tr>\n",
       "  </tbody>\n",
       "</table>\n",
       "</div>"
      ],
      "text/plain": [
       "                     type     value\n",
       "0       equal_opportunity  0.004386\n",
       "0  precision_score_parity  0.079750"
      ]
     },
     "metadata": {},
     "output_type": "display_data"
    }
   ],
   "source": [
    "fairness_results2 = lens2.get_results(evaluator_name='ModelFairness')[0]\n",
    "\n",
    "aggr2 = fairness_results2['results'][0]\n",
    "disaggr2 = fairness_results2['results'][1]\n",
    "\n",
    "display(aggr2)"
   ]
  },
  {
   "cell_type": "code",
   "execution_count": 21,
   "id": "343d3835-2659-4a2d-9046-aa877b41a89c",
   "metadata": {
    "tags": []
   },
   "outputs": [
    {
     "data": {
      "image/png": "[encoded data removed]",
      "text/plain": [
       "<Figure size 640x480 with 1 Axes>"
      ]
     },
     "metadata": {},
     "output_type": "display_data"
    }
   ],
   "source": [
    "graph2 = disaggr2[['VIP', 'value']] \\\n",
    "                  .head(10) \\\n",
    "                  .rename(columns={'value': 'Precision'})\n",
    "\n",
    "plot2 = graph2.plot.bar(ylabel='Precision', legend=False, title='True positives ratio by VIP status')\n",
    "plot2.set_xticklabels(graph2.VIP, rotation=0)\n",
    "None"
   ]
  }
 ],
 "metadata": {
  "kernelspec": {
   "display_name": "Python 3 (ipykernel)",
   "language": "python",
   "name": "python3"
  },
  "language_info": {
   "codemirror_mode": {
    "name": "ipython",
    "version": 3
   },
   "file_extension": ".py",
   "mimetype": "text/x-python",
   "name": "python",
   "nbconvert_exporter": "python",
   "pygments_lexer": "ipython3",
   "version": "3.10.10"
  }
 },
 "nbformat": 4,
 "nbformat_minor": 5
}
